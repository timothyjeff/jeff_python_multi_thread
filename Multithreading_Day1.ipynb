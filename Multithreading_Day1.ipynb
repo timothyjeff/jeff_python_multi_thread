{
  "nbformat": 4,
  "nbformat_minor": 0,
  "metadata": {
    "colab": {
      "provenance": []
    },
    "kernelspec": {
      "name": "python3",
      "display_name": "Python 3"
    },
    "language_info": {
      "name": "python"
    }
  },
  "cells": [
    {
      "cell_type": "code",
      "execution_count": 5,
      "metadata": {
        "id": "TMT0zuWQHQ41",
        "outputId": "2bc91ab4-7c9f-4d7b-97eb-a95871461a13",
        "colab": {
          "base_uri": "https://localhost:8080/"
        }
      },
      "outputs": [
        {
          "output_type": "stream",
          "name": "stdout",
          "text": [
            "Current Thread:  <_MainThread(MainThread, started 136101919428608)>\n",
            "Current Thread:  MainThread\n",
            "Current Thread:  136101919428608\n",
            "Current Thread:  True\n"
          ]
        }
      ],
      "source": [
        "import threading\n",
        "print(\"Current Thread: \",threading.current_thread())\n",
        "print(\"Current Thread: \",threading.current_thread().name)\n",
        "print(\"Current Thread: \",threading.current_thread().ident)\n",
        "print(\"Current Thread: \",threading.current_thread().is_alive())"
      ]
    },
    {
      "cell_type": "code",
      "source": [
        "from threading import Thread\n",
        "\n",
        "def display():\n",
        "  for i in range(4):\n",
        "    print(\"NTT Data\")\n",
        "\n",
        "\n",
        "t1=Thread(target=display)\n",
        "t1.start()\n",
        "\n"
      ],
      "metadata": {
        "id": "2izRvh8WXxAH",
        "outputId": "40836204-3038-4682-ee4e-bd804769b956",
        "colab": {
          "base_uri": "https://localhost:8080/"
        }
      },
      "execution_count": 7,
      "outputs": [
        {
          "output_type": "stream",
          "name": "stdout",
          "text": [
            "NTT Data\n",
            "NTT Data\n",
            "NTT Data\n",
            "NTT Data\n"
          ]
        }
      ]
    },
    {
      "cell_type": "code",
      "source": [
        "from threading import Thread\n",
        "\n",
        "def display():\n",
        "  for i in range(4):\n",
        "    print(\"NTT Data\")\n",
        "\n",
        "\n",
        "t1=Thread(target=display)\n",
        "t1.start()\n",
        "\n",
        "for i in range(5):\n",
        "  print(\"hello world\")\n",
        "\n",
        ""
      ],
      "metadata": {
        "id": "A0IVoVXuZAUN",
        "outputId": "b733fff9-9056-415c-ca64-bdbd2fcb1803",
        "colab": {
          "base_uri": "https://localhost:8080/"
        }
      },
      "execution_count": 16,
      "outputs": [
        {
          "output_type": "stream",
          "name": "stdout",
          "text": [
            "NTT Datahello world\n",
            "hello world\n",
            "hello world\n",
            "hello world\n",
            "hello world\n",
            "\n",
            "NTT Data\n",
            "NTT Data\n",
            "NTT Data\n"
          ]
        }
      ]
    },
    {
      "cell_type": "code",
      "source": [
        "from threading import Thread\n",
        "\n",
        "def display(n,msg):\n",
        "  for i in range(n):\n",
        "    print(msg)\n",
        "\n",
        "\n",
        "t1=Thread(target=display,args=(3,\"Bangalore\"))\n",
        "t1.start()\n",
        "\n",
        "for i in range(5):\n",
        "  print(\"hello world\")"
      ],
      "metadata": {
        "id": "IXRTOlHQaSdI",
        "outputId": "6bd82c9e-b801-40b4-843a-159b86443007",
        "colab": {
          "base_uri": "https://localhost:8080/"
        }
      },
      "execution_count": 21,
      "outputs": [
        {
          "output_type": "stream",
          "name": "stdout",
          "text": [
            "Bangalorehello world\n",
            "hello world\n",
            "hello world\n",
            "hello world\n",
            "hello world\n",
            "\n",
            "Bangalore\n",
            "Bangalore\n"
          ]
        }
      ]
    },
    {
      "cell_type": "code",
      "source": [
        "from threading import Thread\n",
        "\n",
        "def display(n):\n",
        "  for i in range(n):\n",
        "    print(\"Bangalore\")\n",
        "\n",
        "#Tuple args should have comma next to it\n",
        "t1=Thread(target=display,args=(3,))\n",
        "t1.start()\n",
        "\n",
        "for i in range(5):\n",
        "  print(\"hello world\")"
      ],
      "metadata": {
        "id": "m7qc6ccFbIf6"
      },
      "execution_count": null,
      "outputs": []
    }
  ]
}